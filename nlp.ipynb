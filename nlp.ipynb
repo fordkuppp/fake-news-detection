{
    "cells": [
        {
            "attachments": {},
            "cell_type": "markdown",
            "metadata": {},
            "source": [
                "# Fake News Detection Model using NLP\n",
                "\n",
                "We will use the Naive Bayes classifier to train a model and the [Fake and real news dataset](https://www.kaggle.com/clmentbisaillon/fake-and-real-news-dataset) from Kaggle."
            ]
        },
        {
            "cell_type": "code",
            "execution_count": null,
            "metadata": {},
            "outputs": [],
            "source": [
                "# Only support python 3.9.x for Apple Silicon\n",
                "%pip install -q -U --pre pycaret"
            ]
        },
        {
            "attachments": {},
            "cell_type": "markdown",
            "metadata": {},
            "source": [
                "## 1. Imports"
            ]
        },
        {
            "cell_type": "code",
            "execution_count": 4,
            "metadata": {},
            "outputs": [],
            "source": [
                "import pandas as pd\n",
                "import spacy\n",
                "from sklearn.feature_extraction.text import CountVectorizer\n",
                "from sklearn.metrics import accuracy_score, classification_report, confusion_matrix\n",
                "from sklearn.model_selection import train_test_split\n",
                "from sklearn.naive_bayes import MultinomialNB\n",
                "import seaborn as sns\n",
                "from tqdm.auto import tqdm\n",
                "\n",
                "tqdm.pandas()"
            ]
        },
        {
            "attachments": {},
            "cell_type": "markdown",
            "metadata": {},
            "source": [
                "## 2. Load the Data\n",
                "\n",
                "Load 2 datasets the Fake news and True news\n",
                "\n",
                "Then add a col to indicate whether it is_fake or not"
            ]
        },
        {
            "cell_type": "code",
            "execution_count": 5,
            "metadata": {},
            "outputs": [
                {
                    "data": {
                        "text/html": [
                            "<div>\n",
                            "<style scoped>\n",
                            "    .dataframe tbody tr th:only-of-type {\n",
                            "        vertical-align: middle;\n",
                            "    }\n",
                            "\n",
                            "    .dataframe tbody tr th {\n",
                            "        vertical-align: top;\n",
                            "    }\n",
                            "\n",
                            "    .dataframe thead th {\n",
                            "        text-align: right;\n",
                            "    }\n",
                            "</style>\n",
                            "<table border=\"1\" class=\"dataframe\">\n",
                            "  <thead>\n",
                            "    <tr style=\"text-align: right;\">\n",
                            "      <th></th>\n",
                            "      <th>title</th>\n",
                            "      <th>text</th>\n",
                            "      <th>subject</th>\n",
                            "      <th>date</th>\n",
                            "      <th>is_fake</th>\n",
                            "    </tr>\n",
                            "  </thead>\n",
                            "  <tbody>\n",
                            "    <tr>\n",
                            "      <th>0</th>\n",
                            "      <td>Donald Trump Sends Out Embarrassing New Year’...</td>\n",
                            "      <td>Donald Trump just couldn t wish all Americans ...</td>\n",
                            "      <td>News</td>\n",
                            "      <td>December 31, 2017</td>\n",
                            "      <td>1</td>\n",
                            "    </tr>\n",
                            "    <tr>\n",
                            "      <th>1</th>\n",
                            "      <td>Drunk Bragging Trump Staffer Started Russian ...</td>\n",
                            "      <td>House Intelligence Committee Chairman Devin Nu...</td>\n",
                            "      <td>News</td>\n",
                            "      <td>December 31, 2017</td>\n",
                            "      <td>1</td>\n",
                            "    </tr>\n",
                            "    <tr>\n",
                            "      <th>2</th>\n",
                            "      <td>Sheriff David Clarke Becomes An Internet Joke...</td>\n",
                            "      <td>On Friday, it was revealed that former Milwauk...</td>\n",
                            "      <td>News</td>\n",
                            "      <td>December 30, 2017</td>\n",
                            "      <td>1</td>\n",
                            "    </tr>\n",
                            "    <tr>\n",
                            "      <th>3</th>\n",
                            "      <td>Trump Is So Obsessed He Even Has Obama’s Name...</td>\n",
                            "      <td>On Christmas day, Donald Trump announced that ...</td>\n",
                            "      <td>News</td>\n",
                            "      <td>December 29, 2017</td>\n",
                            "      <td>1</td>\n",
                            "    </tr>\n",
                            "    <tr>\n",
                            "      <th>4</th>\n",
                            "      <td>Pope Francis Just Called Out Donald Trump Dur...</td>\n",
                            "      <td>Pope Francis used his annual Christmas Day mes...</td>\n",
                            "      <td>News</td>\n",
                            "      <td>December 25, 2017</td>\n",
                            "      <td>1</td>\n",
                            "    </tr>\n",
                            "  </tbody>\n",
                            "</table>\n",
                            "</div>"
                        ],
                        "text/plain": [
                            "                                               title  \\\n",
                            "0   Donald Trump Sends Out Embarrassing New Year’...   \n",
                            "1   Drunk Bragging Trump Staffer Started Russian ...   \n",
                            "2   Sheriff David Clarke Becomes An Internet Joke...   \n",
                            "3   Trump Is So Obsessed He Even Has Obama’s Name...   \n",
                            "4   Pope Francis Just Called Out Donald Trump Dur...   \n",
                            "\n",
                            "                                                text subject  \\\n",
                            "0  Donald Trump just couldn t wish all Americans ...    News   \n",
                            "1  House Intelligence Committee Chairman Devin Nu...    News   \n",
                            "2  On Friday, it was revealed that former Milwauk...    News   \n",
                            "3  On Christmas day, Donald Trump announced that ...    News   \n",
                            "4  Pope Francis used his annual Christmas Day mes...    News   \n",
                            "\n",
                            "                date  is_fake  \n",
                            "0  December 31, 2017        1  \n",
                            "1  December 31, 2017        1  \n",
                            "2  December 30, 2017        1  \n",
                            "3  December 29, 2017        1  \n",
                            "4  December 25, 2017        1  "
                        ]
                    },
                    "execution_count": 5,
                    "metadata": {},
                    "output_type": "execute_result"
                }
            ],
            "source": [
                "fake_news_path = \"./Inputs/Fake.csv\"\n",
                "true_news_path = \"./Inputs/True.csv\"\n",
                "\n",
                "fake_news = pd.read_csv(fake_news_path)\n",
                "true_news = pd.read_csv(true_news_path)\n",
                "fake_news['is_fake'] = 1\n",
                "true_news['is_fake'] = 0\n",
                "news = pd.concat([fake_news, true_news], ignore_index=True)\n",
                "\n",
                "news.head()"
            ]
        },
        {
            "attachments": {},
            "cell_type": "markdown",
            "metadata": {},
            "source": [
                "## 3. Preprocess the Text Data\n",
                "\n",
                "Load the English language model from Spacy and define the stop words.\n",
                "\n",
                "`preprocess_text` remove the stop words and use lemma to reduce text to basic form.\n",
                "Then apply this preprocessing function to the text col"
            ]
        },
        {
            "cell_type": "code",
            "execution_count": 7,
            "metadata": {},
            "outputs": [
                {
                    "name": "stderr",
                    "output_type": "stream",
                    "text": [
                        "100%|██████████| 44898/44898 [54:11<00:00, 13.81it/s]  \n"
                    ]
                },
                {
                    "data": {
                        "text/html": [
                            "<div>\n",
                            "<style scoped>\n",
                            "    .dataframe tbody tr th:only-of-type {\n",
                            "        vertical-align: middle;\n",
                            "    }\n",
                            "\n",
                            "    .dataframe tbody tr th {\n",
                            "        vertical-align: top;\n",
                            "    }\n",
                            "\n",
                            "    .dataframe thead th {\n",
                            "        text-align: right;\n",
                            "    }\n",
                            "</style>\n",
                            "<table border=\"1\" class=\"dataframe\">\n",
                            "  <thead>\n",
                            "    <tr style=\"text-align: right;\">\n",
                            "      <th></th>\n",
                            "      <th>title</th>\n",
                            "      <th>text</th>\n",
                            "      <th>subject</th>\n",
                            "      <th>date</th>\n",
                            "      <th>is_fake</th>\n",
                            "    </tr>\n",
                            "  </thead>\n",
                            "  <tbody>\n",
                            "    <tr>\n",
                            "      <th>0</th>\n",
                            "      <td>Donald Trump Sends Out Embarrassing New Year’...</td>\n",
                            "      <td>donald trump couldn t wish americans happy new...</td>\n",
                            "      <td>News</td>\n",
                            "      <td>December 31, 2017</td>\n",
                            "      <td>1</td>\n",
                            "    </tr>\n",
                            "    <tr>\n",
                            "      <th>1</th>\n",
                            "      <td>Drunk Bragging Trump Staffer Started Russian ...</td>\n",
                            "      <td>house intelligence committee chairman devin nu...</td>\n",
                            "      <td>News</td>\n",
                            "      <td>December 31, 2017</td>\n",
                            "      <td>1</td>\n",
                            "    </tr>\n",
                            "    <tr>\n",
                            "      <th>2</th>\n",
                            "      <td>Sheriff David Clarke Becomes An Internet Joke...</td>\n",
                            "      <td>friday , reveal milwaukee sheriff david clarke...</td>\n",
                            "      <td>News</td>\n",
                            "      <td>December 30, 2017</td>\n",
                            "      <td>1</td>\n",
                            "    </tr>\n",
                            "    <tr>\n",
                            "      <th>3</th>\n",
                            "      <td>Trump Is So Obsessed He Even Has Obama’s Name...</td>\n",
                            "      <td>christmas day , donald trump announce   work  ...</td>\n",
                            "      <td>News</td>\n",
                            "      <td>December 29, 2017</td>\n",
                            "      <td>1</td>\n",
                            "    </tr>\n",
                            "    <tr>\n",
                            "      <th>4</th>\n",
                            "      <td>Pope Francis Just Called Out Donald Trump Dur...</td>\n",
                            "      <td>pope francis annual christmas day message rebu...</td>\n",
                            "      <td>News</td>\n",
                            "      <td>December 25, 2017</td>\n",
                            "      <td>1</td>\n",
                            "    </tr>\n",
                            "  </tbody>\n",
                            "</table>\n",
                            "</div>"
                        ],
                        "text/plain": [
                            "                                               title  \\\n",
                            "0   Donald Trump Sends Out Embarrassing New Year’...   \n",
                            "1   Drunk Bragging Trump Staffer Started Russian ...   \n",
                            "2   Sheriff David Clarke Becomes An Internet Joke...   \n",
                            "3   Trump Is So Obsessed He Even Has Obama’s Name...   \n",
                            "4   Pope Francis Just Called Out Donald Trump Dur...   \n",
                            "\n",
                            "                                                text subject  \\\n",
                            "0  donald trump couldn t wish americans happy new...    News   \n",
                            "1  house intelligence committee chairman devin nu...    News   \n",
                            "2  friday , reveal milwaukee sheriff david clarke...    News   \n",
                            "3  christmas day , donald trump announce   work  ...    News   \n",
                            "4  pope francis annual christmas day message rebu...    News   \n",
                            "\n",
                            "                date  is_fake  \n",
                            "0  December 31, 2017        1  \n",
                            "1  December 31, 2017        1  \n",
                            "2  December 30, 2017        1  \n",
                            "3  December 29, 2017        1  \n",
                            "4  December 25, 2017        1  "
                        ]
                    },
                    "execution_count": 7,
                    "metadata": {},
                    "output_type": "execute_result"
                }
            ],
            "source": [
                "nlp = spacy.load('en_core_web_sm')\n",
                "stop_words = spacy.lang.en.stop_words.STOP_WORDS\n",
                "\n",
                "def preprocess_text(text):\n",
                "    doc = nlp(text)\n",
                "    lemmas = [token.lemma_.lower() for token in doc if not token.is_stop]\n",
                "    return \" \".join(lemmas)\n",
                "\n",
                "news['text'] = news['text'].progress_apply(preprocess_text)\n",
                "news.head()"
            ]
        },
        {
            "attachments": {},
            "cell_type": "markdown",
            "metadata": {},
            "source": [
                "## 4. Vectorize the Text Data\n",
                "\n",
                "Using the bag-of-words method to vectorized text.\n",
                "Then fit into the training data and transform it."
            ]
        },
        {
            "cell_type": "code",
            "execution_count": 8,
            "metadata": {},
            "outputs": [
                {
                    "name": "stdout",
                    "output_type": "stream",
                    "text": [
                        "Training data shape: (44898, 111669)\n",
                        "Testing data shape: (44898, 111669)\n"
                    ]
                }
            ],
            "source": [
                "vectorizer = CountVectorizer()\n",
                "X_train = news['text']\n",
                "y_train = news['is_fake']\n",
                "X_train_vect = vectorizer.fit_transform(X_train)\n",
                "\n",
                "X_test = X_train\n",
                "y_test = y_train\n",
                "X_test_vect = vectorizer.transform(X_test)\n",
                "\n",
                "print(\"Training data shape:\", X_train_vect.shape)\n",
                "print(\"Testing data shape:\", X_test_vect.shape)"
            ]
        },
        {
            "attachments": {},
            "cell_type": "markdown",
            "metadata": {},
            "source": [
                "## 5. Train a Naive Bayes Classifier\n",
                "\n",
                "Train the classifier using`MultinomialNB` from sklearn."
            ]
        },
        {
            "cell_type": "code",
            "execution_count": 9,
            "metadata": {},
            "outputs": [
                {
                    "data": {
                        "text/html": [
                            "<style>#sk-container-id-1 {color: black;background-color: white;}#sk-container-id-1 pre{padding: 0;}#sk-container-id-1 div.sk-toggleable {background-color: white;}#sk-container-id-1 label.sk-toggleable__label {cursor: pointer;display: block;width: 100%;margin-bottom: 0;padding: 0.3em;box-sizing: border-box;text-align: center;}#sk-container-id-1 label.sk-toggleable__label-arrow:before {content: \"▸\";float: left;margin-right: 0.25em;color: #696969;}#sk-container-id-1 label.sk-toggleable__label-arrow:hover:before {color: black;}#sk-container-id-1 div.sk-estimator:hover label.sk-toggleable__label-arrow:before {color: black;}#sk-container-id-1 div.sk-toggleable__content {max-height: 0;max-width: 0;overflow: hidden;text-align: left;background-color: #f0f8ff;}#sk-container-id-1 div.sk-toggleable__content pre {margin: 0.2em;color: black;border-radius: 0.25em;background-color: #f0f8ff;}#sk-container-id-1 input.sk-toggleable__control:checked~div.sk-toggleable__content {max-height: 200px;max-width: 100%;overflow: auto;}#sk-container-id-1 input.sk-toggleable__control:checked~label.sk-toggleable__label-arrow:before {content: \"▾\";}#sk-container-id-1 div.sk-estimator input.sk-toggleable__control:checked~label.sk-toggleable__label {background-color: #d4ebff;}#sk-container-id-1 div.sk-label input.sk-toggleable__control:checked~label.sk-toggleable__label {background-color: #d4ebff;}#sk-container-id-1 input.sk-hidden--visually {border: 0;clip: rect(1px 1px 1px 1px);clip: rect(1px, 1px, 1px, 1px);height: 1px;margin: -1px;overflow: hidden;padding: 0;position: absolute;width: 1px;}#sk-container-id-1 div.sk-estimator {font-family: monospace;background-color: #f0f8ff;border: 1px dotted black;border-radius: 0.25em;box-sizing: border-box;margin-bottom: 0.5em;}#sk-container-id-1 div.sk-estimator:hover {background-color: #d4ebff;}#sk-container-id-1 div.sk-parallel-item::after {content: \"\";width: 100%;border-bottom: 1px solid gray;flex-grow: 1;}#sk-container-id-1 div.sk-label:hover label.sk-toggleable__label {background-color: #d4ebff;}#sk-container-id-1 div.sk-serial::before {content: \"\";position: absolute;border-left: 1px solid gray;box-sizing: border-box;top: 0;bottom: 0;left: 50%;z-index: 0;}#sk-container-id-1 div.sk-serial {display: flex;flex-direction: column;align-items: center;background-color: white;padding-right: 0.2em;padding-left: 0.2em;position: relative;}#sk-container-id-1 div.sk-item {position: relative;z-index: 1;}#sk-container-id-1 div.sk-parallel {display: flex;align-items: stretch;justify-content: center;background-color: white;position: relative;}#sk-container-id-1 div.sk-item::before, #sk-container-id-1 div.sk-parallel-item::before {content: \"\";position: absolute;border-left: 1px solid gray;box-sizing: border-box;top: 0;bottom: 0;left: 50%;z-index: -1;}#sk-container-id-1 div.sk-parallel-item {display: flex;flex-direction: column;z-index: 1;position: relative;background-color: white;}#sk-container-id-1 div.sk-parallel-item:first-child::after {align-self: flex-end;width: 50%;}#sk-container-id-1 div.sk-parallel-item:last-child::after {align-self: flex-start;width: 50%;}#sk-container-id-1 div.sk-parallel-item:only-child::after {width: 0;}#sk-container-id-1 div.sk-dashed-wrapped {border: 1px dashed gray;margin: 0 0.4em 0.5em 0.4em;box-sizing: border-box;padding-bottom: 0.4em;background-color: white;}#sk-container-id-1 div.sk-label label {font-family: monospace;font-weight: bold;display: inline-block;line-height: 1.2em;}#sk-container-id-1 div.sk-label-container {text-align: center;}#sk-container-id-1 div.sk-container {/* jupyter's `normalize.less` sets `[hidden] { display: none; }` but bootstrap.min.css set `[hidden] { display: none !important; }` so we also need the `!important` here to be able to override the default hidden behavior on the sphinx rendered scikit-learn.org. See: https://github.com/scikit-learn/scikit-learn/issues/21755 */display: inline-block !important;position: relative;}#sk-container-id-1 div.sk-text-repr-fallback {display: none;}</style><div id=\"sk-container-id-1\" class=\"sk-top-container\"><div class=\"sk-text-repr-fallback\"><pre>MultinomialNB()</pre><b>In a Jupyter environment, please rerun this cell to show the HTML representation or trust the notebook. <br />On GitHub, the HTML representation is unable to render, please try loading this page with nbviewer.org.</b></div><div class=\"sk-container\" hidden><div class=\"sk-item\"><div class=\"sk-estimator sk-toggleable\"><input class=\"sk-toggleable__control sk-hidden--visually\" id=\"sk-estimator-id-1\" type=\"checkbox\" checked><label for=\"sk-estimator-id-1\" class=\"sk-toggleable__label sk-toggleable__label-arrow\">MultinomialNB</label><div class=\"sk-toggleable__content\"><pre>MultinomialNB()</pre></div></div></div></div></div>"
                        ],
                        "text/plain": [
                            "MultinomialNB()"
                        ]
                    },
                    "execution_count": 9,
                    "metadata": {},
                    "output_type": "execute_result"
                }
            ],
            "source": [
                "clf = MultinomialNB()\n",
                "clf.fit(X_train_vect, y_train)\n",
                "\n",
                "clf"
            ]
        },
        {
            "attachments": {},
            "cell_type": "markdown",
            "metadata": {},
            "source": [
                "## 6. Evaluate the Model\n",
                "\n",
                "Using the test data to evalutate the model.\n",
                "Then use various functions to compute the evaluation metrics.\n",
                "And visiualize it"
            ]
        },
        {
            "cell_type": "code",
            "execution_count": 10,
            "metadata": {},
            "outputs": [
                {
                    "name": "stdout",
                    "output_type": "stream",
                    "text": [
                        "Accuracy: 0.9603323087888102\n",
                        "Confusion Matrix:\n",
                        "[[20582   835]\n",
                        " [  946 22535]]\n",
                        "Classification Report:\n",
                        "              precision    recall  f1-score   support\n",
                        "\n",
                        "        True       0.96      0.96      0.96     21417\n",
                        "        Fake       0.96      0.96      0.96     23481\n",
                        "\n",
                        "    accuracy                           0.96     44898\n",
                        "   macro avg       0.96      0.96      0.96     44898\n",
                        "weighted avg       0.96      0.96      0.96     44898\n",
                        "\n"
                    ]
                },
                {
                    "data": {
                        "image/png": "[encoded data removed]",
                        "text/plain": [
                            "<Figure size 640x480 with 2 Axes>"
                        ]
                    },
                    "metadata": {},
                    "output_type": "display_data"
                }
            ],
            "source": [
                "y_pred = clf.predict(X_test_vect)\n",
                "\n",
                "acc = accuracy_score(y_test, y_pred)\n",
                "print(\"Accuracy:\", acc)\n",
                "\n",
                "cm = confusion_matrix(y_test, y_pred)\n",
                "print(\"Confusion Matrix:\")\n",
                "print(cm)\n",
                "\n",
                "sns.heatmap(cm, annot=True)\n",
                "\n",
                "target_names = ['True', 'Fake']\n",
                "print(\"Classification Report:\")\n",
                "print(classification_report(y_test, y_pred, target_names=target_names))"
            ]
        }
    ],
    "metadata": {
        "kernelspec": {
            "display_name": "Python 3",
            "language": "python",
            "name": "python3"
        },
        "language_info": {
            "codemirror_mode": {
                "name": "ipython",
                "version": 3
            },
            "file_extension": ".py",
            "mimetype": "text/x-python",
            "name": "python",
            "nbconvert_exporter": "python",
            "pygments_lexer": "ipython3",
            "version": "3.9.16"
        },
        "orig_nbformat": 4
    },
    "nbformat": 4,
    "nbformat_minor": 2
}
